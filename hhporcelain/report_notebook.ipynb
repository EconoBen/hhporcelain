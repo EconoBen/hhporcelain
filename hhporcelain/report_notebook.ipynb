{
 "cells": [
  {
   "cell_type": "code",
   "execution_count": 1,
   "metadata": {},
   "outputs": [],
   "source": [
    "from pandas import DataFrame\n",
    "import streamlit as st"
   ]
  },
  {
   "cell_type": "code",
   "execution_count": 2,
   "metadata": {},
   "outputs": [
    {
     "name": "stderr",
     "output_type": "stream",
     "text": [
      "2022-05-03 10:19:01.110 INFO    gsheetsdb.query: Original query: SELECT * FROM \"https://docs.google.com/spreadsheets/d/1XmLtn9rPnowNX1DAeMuHfRbU3g5SfLQp_5SBXMVtMr0/edit#gid=563567846\"\n",
      "2022-05-03 10:19:01.111 INFO    gsheetsdb.query: Translated query: SELECT *\n"
     ]
    }
   ],
   "source": [
    "from google.oauth2 import service_account\n",
    "from gsheetsdb import connect\n",
    "\n",
    "# Create a connection object.\n",
    "credentials = service_account.Credentials.from_service_account_info(\n",
    "    st.secrets[\"gcp_service_account\"],\n",
    "    scopes=[\n",
    "        \"https://www.googleapis.com/auth/spreadsheets\",\n",
    "    ],\n",
    ")\n",
    "conn = connect(credentials=credentials)\n",
    "\n",
    "# Perform SQL query on the Google Sheet.\n",
    "# Uses st.cache to only rerun when the query changes or after 10 min.\n",
    "def run_query(query):\n",
    "    rows = conn.execute(query)\n",
    "    df = DataFrame(rows.fetchall())\n",
    "    return df\n",
    "\n",
    "sheet_url = st.secrets[\"gsheets\"]['sheet2']\n",
    "df = run_query(f'SELECT * FROM \"{sheet_url}\"')"
   ]
  },
  {
   "cell_type": "code",
   "execution_count": 3,
   "metadata": {},
   "outputs": [
    {
     "data": {
      "text/html": [
       "<div>\n",
       "<style scoped>\n",
       "    .dataframe tbody tr th:only-of-type {\n",
       "        vertical-align: middle;\n",
       "    }\n",
       "\n",
       "    .dataframe tbody tr th {\n",
       "        vertical-align: top;\n",
       "    }\n",
       "\n",
       "    .dataframe thead th {\n",
       "        text-align: right;\n",
       "    }\n",
       "</style>\n",
       "<table border=\"1\" class=\"dataframe\">\n",
       "  <thead>\n",
       "    <tr style=\"text-align: right;\">\n",
       "      <th></th>\n",
       "      <th>Item</th>\n",
       "      <th>Cost</th>\n",
       "      <th>Cumulative_Cost</th>\n",
       "    </tr>\n",
       "  </thead>\n",
       "  <tbody>\n",
       "    <tr>\n",
       "      <th>0</th>\n",
       "      <td>Custom Logo Metal Stamp for Pottery Artists</td>\n",
       "      <td>25.86</td>\n",
       "      <td>25.86</td>\n",
       "    </tr>\n",
       "    <tr>\n",
       "      <th>1</th>\n",
       "      <td>Cookie cutter set</td>\n",
       "      <td>7.99</td>\n",
       "      <td>33.85</td>\n",
       "    </tr>\n",
       "    <tr>\n",
       "      <th>2</th>\n",
       "      <td>Split-leg apron</td>\n",
       "      <td>17.99</td>\n",
       "      <td>51.84</td>\n",
       "    </tr>\n",
       "  </tbody>\n",
       "</table>\n",
       "</div>"
      ],
      "text/plain": [
       "                                          Item   Cost  Cumulative_Cost\n",
       "0  Custom Logo Metal Stamp for Pottery Artists  25.86            25.86\n",
       "1                            Cookie cutter set   7.99            33.85\n",
       "2                              Split-leg apron  17.99            51.84"
      ]
     },
     "execution_count": 3,
     "metadata": {},
     "output_type": "execute_result"
    }
   ],
   "source": [
    "df"
   ]
  },
  {
   "cell_type": "code",
   "execution_count": 10,
   "metadata": {},
   "outputs": [],
   "source": [
    "sheet_names = ['Foundation Needs',\n",
    "               'Purchased',\n",
    "               'Monthly Costs',\n",
    "               'Down-the-line extras',\n",
    "               ]\n",
    "sheet_dict = {f'sheet{i+1}': val for i, val in enumerate(sheet_names)}\n"
   ]
  },
  {
   "cell_type": "code",
   "execution_count": null,
   "metadata": {},
   "outputs": [],
   "source": []
  }
 ],
 "metadata": {
  "interpreter": {
   "hash": "2f8fee3cd704509076bff6a1236ce92e661bd75885e9477b68ecd80c9f87bd23"
  },
  "kernelspec": {
   "display_name": "Python 3.10.1 ('.venv': poetry)",
   "language": "python",
   "name": "python3"
  },
  "language_info": {
   "codemirror_mode": {
    "name": "ipython",
    "version": 3
   },
   "file_extension": ".py",
   "mimetype": "text/x-python",
   "name": "python",
   "nbconvert_exporter": "python",
   "pygments_lexer": "ipython3",
   "version": "3.9.11"
  },
  "orig_nbformat": 4
 },
 "nbformat": 4,
 "nbformat_minor": 2
}
