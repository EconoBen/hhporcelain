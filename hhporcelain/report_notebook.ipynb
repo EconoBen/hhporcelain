{
 "cells": [
  {
   "cell_type": "code",
   "execution_count": 69,
   "metadata": {},
   "outputs": [],
   "source": [
    "from gspread_pandas import Client\n",
    "import gspread_pandas\n",
    "from pandas import DataFrame"
   ]
  },
  {
   "cell_type": "code",
   "execution_count": 70,
   "metadata": {},
   "outputs": [],
   "source": [
    "client = Client()"
   ]
  },
  {
   "cell_type": "code",
   "execution_count": 145,
   "metadata": {},
   "outputs": [],
   "source": [
    "# Starting Budget\n",
    "id = '1XmLtn9rPnowNX1DAeMuHfRbU3g5SfLQp_5SBXMVtMr0'\n",
    "df = gspread_pandas.spread.Spread(id).sheet_to_df().reset_index()\n",
    "table_one_title = df.columns[0]\n",
    "tbl1_rows = [i for i, x in enumerate(df['Foundation Needs'].values) if len(set(x)) == 1][0]\n",
    "tbl_one_unformatted = df.iloc[:tbl1_rows, :1].values\n"
   ]
  },
  {
   "cell_type": "code",
   "execution_count": 168,
   "metadata": {},
   "outputs": [],
   "source": [
    "# Create Table\n",
    "tbl_one_cols = tbl_one_unformatted[0][0]\n",
    "items = [lst[0][0].strip() for lst in tbl_one_unformatted[1:] if lst[0][0]]\n",
    "links = [lnk[0][1].strip() for lnk in tbl_one_unformatted[1:]][:len(items)]\n",
    "costs = [cst[0][2].strip() for cst in tbl_one_unformatted[1:]][:len(items)]\n",
    "tbl_one = DataFrame().from_dict({tbl_one_cols[0].capitalize(): items,\n",
    "                              tbl_one_cols[1].capitalize(): links,\n",
    "                              tbl_one_cols[2].capitalize(): costs})"
   ]
  },
  {
   "cell_type": "code",
   "execution_count": 169,
   "metadata": {},
   "outputs": [
    {
     "data": {
      "text/html": [
       "<div>\n",
       "<style scoped>\n",
       "    .dataframe tbody tr th:only-of-type {\n",
       "        vertical-align: middle;\n",
       "    }\n",
       "\n",
       "    .dataframe tbody tr th {\n",
       "        vertical-align: top;\n",
       "    }\n",
       "\n",
       "    .dataframe thead th {\n",
       "        text-align: right;\n",
       "    }\n",
       "</style>\n",
       "<table border=\"1\" class=\"dataframe\">\n",
       "  <thead>\n",
       "    <tr style=\"text-align: right;\">\n",
       "      <th></th>\n",
       "      <th>Item</th>\n",
       "      <th>Link</th>\n",
       "      <th>Cost</th>\n",
       "    </tr>\n",
       "  </thead>\n",
       "  <tbody>\n",
       "    <tr>\n",
       "      <th>0</th>\n",
       "      <td>Polono Thermal Label Printer</td>\n",
       "      <td>https://smile.amazon.com/dp/B0995JWCT1/?coliid...</td>\n",
       "      <td>$115.99</td>\n",
       "    </tr>\n",
       "    <tr>\n",
       "      <th>1</th>\n",
       "      <td>Wowxyz Honeycomb Packing Paper Wrap</td>\n",
       "      <td>https://smile.amazon.com/dp/B0915ZN4HR/?coliid...</td>\n",
       "      <td>$15.29</td>\n",
       "    </tr>\n",
       "    <tr>\n",
       "      <th>2</th>\n",
       "      <td>Duck Fiberglass Reinforced Gummed Kraft Paper ...</td>\n",
       "      <td>https://smile.amazon.com/dp/B0026RHV7A/?coliid...</td>\n",
       "      <td>$13.44</td>\n",
       "    </tr>\n",
       "    <tr>\n",
       "      <th>3</th>\n",
       "      <td>Water Activated Paper Tape Dispenser with Gumm...</td>\n",
       "      <td>https://smile.amazon.com/dp/B09C3CWHK7/?coliid...</td>\n",
       "      <td>$29.99</td>\n",
       "    </tr>\n",
       "    <tr>\n",
       "      <th>4</th>\n",
       "      <td>10lb - 320 Newsprint Paper</td>\n",
       "      <td>https://smile.amazon.com/Packing-Paper-Sheets-...</td>\n",
       "      <td>$23.97</td>\n",
       "    </tr>\n",
       "    <tr>\n",
       "      <th>5</th>\n",
       "      <td>Coitak 1/2 Inch Cotton Twill Ribbon, 66 Yards</td>\n",
       "      <td>https://smile.amazon.com/Coitak-Binding-Trimmi...</td>\n",
       "      <td>$8.98</td>\n",
       "    </tr>\n",
       "    <tr>\n",
       "      <th>6</th>\n",
       "      <td>Printer Paper</td>\n",
       "      <td></td>\n",
       "      <td></td>\n",
       "    </tr>\n",
       "  </tbody>\n",
       "</table>\n",
       "</div>"
      ],
      "text/plain": [
       "                                                Item  \\\n",
       "0                       Polono Thermal Label Printer   \n",
       "1                Wowxyz Honeycomb Packing Paper Wrap   \n",
       "2  Duck Fiberglass Reinforced Gummed Kraft Paper ...   \n",
       "3  Water Activated Paper Tape Dispenser with Gumm...   \n",
       "4                         10lb - 320 Newsprint Paper   \n",
       "5      Coitak 1/2 Inch Cotton Twill Ribbon, 66 Yards   \n",
       "6                                      Printer Paper   \n",
       "\n",
       "                                                Link     Cost  \n",
       "0  https://smile.amazon.com/dp/B0995JWCT1/?coliid...  $115.99  \n",
       "1  https://smile.amazon.com/dp/B0915ZN4HR/?coliid...   $15.29  \n",
       "2  https://smile.amazon.com/dp/B0026RHV7A/?coliid...   $13.44  \n",
       "3  https://smile.amazon.com/dp/B09C3CWHK7/?coliid...   $29.99  \n",
       "4  https://smile.amazon.com/Packing-Paper-Sheets-...   $23.97  \n",
       "5  https://smile.amazon.com/Coitak-Binding-Trimmi...    $8.98  \n",
       "6                                                              "
      ]
     },
     "execution_count": 169,
     "metadata": {},
     "output_type": "execute_result"
    }
   ],
   "source": [
    "tbl_one"
   ]
  },
  {
   "cell_type": "code",
   "execution_count": 158,
   "metadata": {},
   "outputs": [],
   "source": [
    "# Table Two\n",
    "table_two_title = df.iloc[tbl1_rows:tbl1_rows+1,:1].values[0][0][0]\n",
    "tbl_two_unformatted = df.iloc[tbl1_rows+1:, :1].values"
   ]
  },
  {
   "cell_type": "code",
   "execution_count": 170,
   "metadata": {},
   "outputs": [],
   "source": [
    "# Create Table\n",
    "tbl_two_cols = tbl_two_unformatted[0][0]\n",
    "items = [lst[0][0].strip() for lst in tbl_two_unformatted[1:] if lst[0][0]]\n",
    "links = [lnk[0][1].strip() for lnk in tbl_two_unformatted[1:]][:len(items)]\n",
    "costs = [cst[0][2].strip() for cst in tbl_two_unformatted[1:]][:len(items)]\n",
    "tbl_two = DataFrame().from_dict({tbl_two_cols[0].capitalize(): items,\n",
    "                                 tbl_two_cols[1].capitalize(): links,\n",
    "                                 tbl_two_cols[2].capitalize(): costs})\n",
    "\n",
    "tbl_two"
   ]
  },
  {
   "cell_type": "code",
   "execution_count": 249,
   "metadata": {},
   "outputs": [
    {
     "data": {
      "text/html": [
       "<div>\n",
       "<style scoped>\n",
       "    .dataframe tbody tr th:only-of-type {\n",
       "        vertical-align: middle;\n",
       "    }\n",
       "\n",
       "    .dataframe tbody tr th {\n",
       "        vertical-align: top;\n",
       "    }\n",
       "\n",
       "    .dataframe thead th {\n",
       "        text-align: right;\n",
       "    }\n",
       "</style>\n",
       "<table border=\"1\" class=\"dataframe\">\n",
       "  <thead>\n",
       "    <tr style=\"text-align: right;\">\n",
       "      <th></th>\n",
       "      <th>Item</th>\n",
       "      <th>Cost</th>\n",
       "      <th>Frequency</th>\n",
       "    </tr>\n",
       "  </thead>\n",
       "  <tbody>\n",
       "    <tr>\n",
       "      <th>0</th>\n",
       "      <td>Studio Membership</td>\n",
       "      <td>1</td>\n",
       "      <td>$350</td>\n",
       "    </tr>\n",
       "    <tr>\n",
       "      <th>1</th>\n",
       "      <td>Travel gas</td>\n",
       "      <td>(Estimation)</td>\n",
       "      <td>$50</td>\n",
       "    </tr>\n",
       "  </tbody>\n",
       "</table>\n",
       "</div>"
      ],
      "text/plain": [
       "                Item          Cost Frequency\n",
       "0  Studio Membership             1      $350\n",
       "1         Travel gas  (Estimation)       $50"
      ]
     },
     "execution_count": 249,
     "metadata": {},
     "output_type": "execute_result"
    }
   ],
   "source": [
    "# Table Three\n",
    "\n",
    "tbl_three_title = df.columns[2]\n",
    "tbl_three_range = [ i for i, x in enumerate(df.iloc[:,2:3].values) if x == ''][0]\n",
    "tbl_three_unformatted = df.iloc[:tbl_three_range,2:5]\n",
    "tbl_three_cols = tbl_three_unformatted.iloc[:1,:].values[0]\n",
    "tbl_three_unformatted = tbl_three_unformatted.iloc[1:,].values\n",
    "\n",
    "items = [lst[0] for lst in tbl_three_unformatted if lst[0]]\n",
    "costs = [cst[1].strip() for cst in tbl_three_unformatted][:len(items)]\n",
    "freq = [lst[2] for lst in tbl_three_unformatted][:len(items)]\n",
    "tbl_three = DataFrame().from_dict({tbl_three_cols[0].capitalize(): items,\n",
    "                                   tbl_three_cols[1].capitalize(): freq,\n",
    "                                   tbl_three_cols[2].capitalize(): costs})\n",
    "\n",
    "tbl_three"
   ]
  },
  {
   "cell_type": "code",
   "execution_count": 329,
   "metadata": {},
   "outputs": [],
   "source": [
    "# Table Four\n",
    "\n",
    "tbl_four_range = [i+1 for i, x in enumerate(df.iloc[tbl_three_range:,-1:].values) if '$' in x[0]][1]\n",
    "tbl_four_unformatted = df.iloc[tbl_four_range:,2:]\n",
    "tbl_four_title = tbl_four_unformatted.iloc[:1,:].values[0][0]\n",
    "tbl_four_cols = list(set(tbl_four_unformatted.iloc[1:,].values[0]))\n",
    "\n",
    "items = [x[0] for x in tbl_four_unformatted.iloc[2:,].values]\n",
    "costs = [x[1] for x in tbl_four_unformatted.iloc[2:,2:].values]\n",
    "tbl_four = DataFrame().from_dict({tbl_four_cols[0].capitalize(): items,\n",
    "                                  tbl_four_cols[1].capitalize(): costs\n",
    "                                 })"
   ]
  },
  {
   "cell_type": "code",
   "execution_count": 330,
   "metadata": {},
   "outputs": [
    {
     "data": {
      "text/html": [
       "<div>\n",
       "<style scoped>\n",
       "    .dataframe tbody tr th:only-of-type {\n",
       "        vertical-align: middle;\n",
       "    }\n",
       "\n",
       "    .dataframe tbody tr th {\n",
       "        vertical-align: top;\n",
       "    }\n",
       "\n",
       "    .dataframe thead th {\n",
       "        text-align: right;\n",
       "    }\n",
       "</style>\n",
       "<table border=\"1\" class=\"dataframe\">\n",
       "  <thead>\n",
       "    <tr style=\"text-align: right;\">\n",
       "      <th></th>\n",
       "      <th>Item</th>\n",
       "      <th>Cost</th>\n",
       "    </tr>\n",
       "  </thead>\n",
       "  <tbody>\n",
       "    <tr>\n",
       "      <th>0</th>\n",
       "      <td>Custom Logo Metal Stamp for Pottery Artists</td>\n",
       "      <td>$25.86</td>\n",
       "    </tr>\n",
       "    <tr>\n",
       "      <th>1</th>\n",
       "      <td>Cookie cutter set</td>\n",
       "      <td>$7.99</td>\n",
       "    </tr>\n",
       "    <tr>\n",
       "      <th>2</th>\n",
       "      <td>Split-leg apron</td>\n",
       "      <td>$17.99</td>\n",
       "    </tr>\n",
       "  </tbody>\n",
       "</table>\n",
       "</div>"
      ],
      "text/plain": [
       "                                          Item    Cost\n",
       "0  Custom Logo Metal Stamp for Pottery Artists  $25.86\n",
       "1                            Cookie cutter set   $7.99\n",
       "2                              Split-leg apron  $17.99"
      ]
     },
     "execution_count": 330,
     "metadata": {},
     "output_type": "execute_result"
    }
   ],
   "source": [
    "tbl_four"
   ]
  },
  {
   "cell_type": "code",
   "execution_count": null,
   "metadata": {},
   "outputs": [],
   "source": []
  }
 ],
 "metadata": {
  "interpreter": {
   "hash": "2f8fee3cd704509076bff6a1236ce92e661bd75885e9477b68ecd80c9f87bd23"
  },
  "kernelspec": {
   "display_name": "Python 3.10.1 ('.venv': poetry)",
   "language": "python",
   "name": "python3"
  },
  "language_info": {
   "codemirror_mode": {
    "name": "ipython",
    "version": 3
   },
   "file_extension": ".py",
   "mimetype": "text/x-python",
   "name": "python",
   "nbconvert_exporter": "python",
   "pygments_lexer": "ipython3",
   "version": "3.10.1"
  },
  "orig_nbformat": 4
 },
 "nbformat": 4,
 "nbformat_minor": 2
}
