{
 "cells": [
  {
   "cell_type": "code",
   "execution_count": 1,
   "metadata": {},
   "outputs": [],
   "source": [
    "from gspread_pandas import Client\n",
    "import gspread_pandas\n",
    "from pandas import DataFrame\n",
    "import streamlit as st"
   ]
  },
  {
   "cell_type": "code",
   "execution_count": 70,
   "metadata": {},
   "outputs": [],
   "source": [
    "client = Client()"
   ]
  },
  {
   "cell_type": "code",
   "execution_count": 145,
   "metadata": {},
   "outputs": [],
   "source": [
    "# Starting Budget\n",
    "id = '1XmLtn9rPnowNX1DAeMuHfRbU3g5SfLQp_5SBXMVtMr0'\n",
    "df = gspread_pandas.spread.Spread(id).sheet_to_df().reset_index()\n",
    "table_one_title = df.columns[0]\n",
    "tbl1_rows = [i for i, x in enumerate(df['Foundation Needs'].values) if len(set(x)) == 1][0]\n",
    "tbl_one_unformatted = df.iloc[:tbl1_rows, :1].values\n"
   ]
  },
  {
   "cell_type": "code",
   "execution_count": 168,
   "metadata": {},
   "outputs": [],
   "source": [
    "# Create Table\n",
    "tbl_one_cols = tbl_one_unformatted[0][0]\n",
    "items = [lst[0][0].strip() for lst in tbl_one_unformatted[1:] if lst[0][0]]\n",
    "links = [lnk[0][1].strip() for lnk in tbl_one_unformatted[1:]][:len(items)]\n",
    "costs = [cst[0][2].strip() for cst in tbl_one_unformatted[1:]][:len(items)]\n",
    "tbl_one = DataFrame().from_dict({tbl_one_cols[0].capitalize(): items,\n",
    "                              tbl_one_cols[1].capitalize(): links,\n",
    "                              tbl_one_cols[2].capitalize(): costs})"
   ]
  },
  {
   "cell_type": "code",
   "execution_count": 169,
   "metadata": {},
   "outputs": [
    {
     "data": {
      "text/html": [
       "<div>\n",
       "<style scoped>\n",
       "    .dataframe tbody tr th:only-of-type {\n",
       "        vertical-align: middle;\n",
       "    }\n",
       "\n",
       "    .dataframe tbody tr th {\n",
       "        vertical-align: top;\n",
       "    }\n",
       "\n",
       "    .dataframe thead th {\n",
       "        text-align: right;\n",
       "    }\n",
       "</style>\n",
       "<table border=\"1\" class=\"dataframe\">\n",
       "  <thead>\n",
       "    <tr style=\"text-align: right;\">\n",
       "      <th></th>\n",
       "      <th>Item</th>\n",
       "      <th>Link</th>\n",
       "      <th>Cost</th>\n",
       "    </tr>\n",
       "  </thead>\n",
       "  <tbody>\n",
       "    <tr>\n",
       "      <th>0</th>\n",
       "      <td>Polono Thermal Label Printer</td>\n",
       "      <td>https://smile.amazon.com/dp/B0995JWCT1/?coliid...</td>\n",
       "      <td>$115.99</td>\n",
       "    </tr>\n",
       "    <tr>\n",
       "      <th>1</th>\n",
       "      <td>Wowxyz Honeycomb Packing Paper Wrap</td>\n",
       "      <td>https://smile.amazon.com/dp/B0915ZN4HR/?coliid...</td>\n",
       "      <td>$15.29</td>\n",
       "    </tr>\n",
       "    <tr>\n",
       "      <th>2</th>\n",
       "      <td>Duck Fiberglass Reinforced Gummed Kraft Paper ...</td>\n",
       "      <td>https://smile.amazon.com/dp/B0026RHV7A/?coliid...</td>\n",
       "      <td>$13.44</td>\n",
       "    </tr>\n",
       "    <tr>\n",
       "      <th>3</th>\n",
       "      <td>Water Activated Paper Tape Dispenser with Gumm...</td>\n",
       "      <td>https://smile.amazon.com/dp/B09C3CWHK7/?coliid...</td>\n",
       "      <td>$29.99</td>\n",
       "    </tr>\n",
       "    <tr>\n",
       "      <th>4</th>\n",
       "      <td>10lb - 320 Newsprint Paper</td>\n",
       "      <td>https://smile.amazon.com/Packing-Paper-Sheets-...</td>\n",
       "      <td>$23.97</td>\n",
       "    </tr>\n",
       "    <tr>\n",
       "      <th>5</th>\n",
       "      <td>Coitak 1/2 Inch Cotton Twill Ribbon, 66 Yards</td>\n",
       "      <td>https://smile.amazon.com/Coitak-Binding-Trimmi...</td>\n",
       "      <td>$8.98</td>\n",
       "    </tr>\n",
       "    <tr>\n",
       "      <th>6</th>\n",
       "      <td>Printer Paper</td>\n",
       "      <td></td>\n",
       "      <td></td>\n",
       "    </tr>\n",
       "  </tbody>\n",
       "</table>\n",
       "</div>"
      ],
      "text/plain": [
       "                                                Item  \\\n",
       "0                       Polono Thermal Label Printer   \n",
       "1                Wowxyz Honeycomb Packing Paper Wrap   \n",
       "2  Duck Fiberglass Reinforced Gummed Kraft Paper ...   \n",
       "3  Water Activated Paper Tape Dispenser with Gumm...   \n",
       "4                         10lb - 320 Newsprint Paper   \n",
       "5      Coitak 1/2 Inch Cotton Twill Ribbon, 66 Yards   \n",
       "6                                      Printer Paper   \n",
       "\n",
       "                                                Link     Cost  \n",
       "0  https://smile.amazon.com/dp/B0995JWCT1/?coliid...  $115.99  \n",
       "1  https://smile.amazon.com/dp/B0915ZN4HR/?coliid...   $15.29  \n",
       "2  https://smile.amazon.com/dp/B0026RHV7A/?coliid...   $13.44  \n",
       "3  https://smile.amazon.com/dp/B09C3CWHK7/?coliid...   $29.99  \n",
       "4  https://smile.amazon.com/Packing-Paper-Sheets-...   $23.97  \n",
       "5  https://smile.amazon.com/Coitak-Binding-Trimmi...    $8.98  \n",
       "6                                                              "
      ]
     },
     "execution_count": 169,
     "metadata": {},
     "output_type": "execute_result"
    }
   ],
   "source": [
    "tbl_one"
   ]
  },
  {
   "cell_type": "code",
   "execution_count": 158,
   "metadata": {},
   "outputs": [],
   "source": [
    "# Table Two\n",
    "table_two_title = df.iloc[tbl1_rows:tbl1_rows+1,:1].values[0][0][0]\n",
    "tbl_two_unformatted = df.iloc[tbl1_rows+1:, :1].values"
   ]
  },
  {
   "cell_type": "code",
   "execution_count": 170,
   "metadata": {},
   "outputs": [],
   "source": [
    "# Create Table\n",
    "tbl_two_cols = tbl_two_unformatted[0][0]\n",
    "items = [lst[0][0].strip() for lst in tbl_two_unformatted[1:] if lst[0][0]]\n",
    "links = [lnk[0][1].strip() for lnk in tbl_two_unformatted[1:]][:len(items)]\n",
    "costs = [cst[0][2].strip() for cst in tbl_two_unformatted[1:]][:len(items)]\n",
    "tbl_two = DataFrame().from_dict({tbl_two_cols[0].capitalize(): items,\n",
    "                                 tbl_two_cols[1].capitalize(): links,\n",
    "                                 tbl_two_cols[2].capitalize(): costs})\n",
    "\n",
    "tbl_two"
   ]
  },
  {
   "cell_type": "code",
   "execution_count": 249,
   "metadata": {},
   "outputs": [
    {
     "data": {
      "text/html": [
       "<div>\n",
       "<style scoped>\n",
       "    .dataframe tbody tr th:only-of-type {\n",
       "        vertical-align: middle;\n",
       "    }\n",
       "\n",
       "    .dataframe tbody tr th {\n",
       "        vertical-align: top;\n",
       "    }\n",
       "\n",
       "    .dataframe thead th {\n",
       "        text-align: right;\n",
       "    }\n",
       "</style>\n",
       "<table border=\"1\" class=\"dataframe\">\n",
       "  <thead>\n",
       "    <tr style=\"text-align: right;\">\n",
       "      <th></th>\n",
       "      <th>Item</th>\n",
       "      <th>Cost</th>\n",
       "      <th>Frequency</th>\n",
       "    </tr>\n",
       "  </thead>\n",
       "  <tbody>\n",
       "    <tr>\n",
       "      <th>0</th>\n",
       "      <td>Studio Membership</td>\n",
       "      <td>1</td>\n",
       "      <td>$350</td>\n",
       "    </tr>\n",
       "    <tr>\n",
       "      <th>1</th>\n",
       "      <td>Travel gas</td>\n",
       "      <td>(Estimation)</td>\n",
       "      <td>$50</td>\n",
       "    </tr>\n",
       "  </tbody>\n",
       "</table>\n",
       "</div>"
      ],
      "text/plain": [
       "                Item          Cost Frequency\n",
       "0  Studio Membership             1      $350\n",
       "1         Travel gas  (Estimation)       $50"
      ]
     },
     "execution_count": 249,
     "metadata": {},
     "output_type": "execute_result"
    }
   ],
   "source": [
    "# Table Three\n",
    "\n",
    "tbl_three_title = df.columns[2]\n",
    "tbl_three_range = [ i for i, x in enumerate(df.iloc[:,2:3].values) if x == ''][0]\n",
    "tbl_three_unformatted = df.iloc[:tbl_three_range,2:5]\n",
    "tbl_three_cols = tbl_three_unformatted.iloc[:1,:].values[0]\n",
    "tbl_three_unformatted = tbl_three_unformatted.iloc[1:,].values\n",
    "\n",
    "items = [lst[0] for lst in tbl_three_unformatted if lst[0]]\n",
    "costs = [cst[1].strip() for cst in tbl_three_unformatted][:len(items)]\n",
    "freq = [lst[2] for lst in tbl_three_unformatted][:len(items)]\n",
    "tbl_three = DataFrame().from_dict({tbl_three_cols[0].capitalize(): items,\n",
    "                                   tbl_three_cols[1].capitalize(): freq,\n",
    "                                   tbl_three_cols[2].capitalize(): costs})\n",
    "\n",
    "tbl_three"
   ]
  },
  {
   "cell_type": "code",
   "execution_count": 329,
   "metadata": {},
   "outputs": [],
   "source": [
    "# Table Four\n",
    "\n",
    "tbl_four_range = [i+1 for i, x in enumerate(df.iloc[tbl_three_range:,-1:].values) if '$' in x[0]][1]\n",
    "tbl_four_unformatted = df.iloc[tbl_four_range:,2:]\n",
    "tbl_four_title = tbl_four_unformatted.iloc[:1,:].values[0][0]\n",
    "tbl_four_cols = list(set(tbl_four_unformatted.iloc[1:,].values[0]))\n",
    "\n",
    "items = [x[0] for x in tbl_four_unformatted.iloc[2:,].values]\n",
    "costs = [x[1] for x in tbl_four_unformatted.iloc[2:,2:].values]\n",
    "tbl_four = DataFrame().from_dict({tbl_four_cols[0].capitalize(): items,\n",
    "                                  tbl_four_cols[1].capitalize(): costs\n",
    "                                 })"
   ]
  },
  {
   "cell_type": "code",
   "execution_count": 330,
   "metadata": {},
   "outputs": [
    {
     "data": {
      "text/html": [
       "<div>\n",
       "<style scoped>\n",
       "    .dataframe tbody tr th:only-of-type {\n",
       "        vertical-align: middle;\n",
       "    }\n",
       "\n",
       "    .dataframe tbody tr th {\n",
       "        vertical-align: top;\n",
       "    }\n",
       "\n",
       "    .dataframe thead th {\n",
       "        text-align: right;\n",
       "    }\n",
       "</style>\n",
       "<table border=\"1\" class=\"dataframe\">\n",
       "  <thead>\n",
       "    <tr style=\"text-align: right;\">\n",
       "      <th></th>\n",
       "      <th>Item</th>\n",
       "      <th>Cost</th>\n",
       "    </tr>\n",
       "  </thead>\n",
       "  <tbody>\n",
       "    <tr>\n",
       "      <th>0</th>\n",
       "      <td>Custom Logo Metal Stamp for Pottery Artists</td>\n",
       "      <td>$25.86</td>\n",
       "    </tr>\n",
       "    <tr>\n",
       "      <th>1</th>\n",
       "      <td>Cookie cutter set</td>\n",
       "      <td>$7.99</td>\n",
       "    </tr>\n",
       "    <tr>\n",
       "      <th>2</th>\n",
       "      <td>Split-leg apron</td>\n",
       "      <td>$17.99</td>\n",
       "    </tr>\n",
       "  </tbody>\n",
       "</table>\n",
       "</div>"
      ],
      "text/plain": [
       "                                          Item    Cost\n",
       "0  Custom Logo Metal Stamp for Pottery Artists  $25.86\n",
       "1                            Cookie cutter set   $7.99\n",
       "2                              Split-leg apron  $17.99"
      ]
     },
     "execution_count": 330,
     "metadata": {},
     "output_type": "execute_result"
    }
   ],
   "source": [
    "tbl_four"
   ]
  },
  {
   "cell_type": "code",
   "execution_count": 2,
   "metadata": {},
   "outputs": [],
   "source": [
    "import toml\n",
    "output_file = \"/Users/blabaschin/.streamlit/secrets.toml\"\n",
    "with open(\"/Users/blabaschin/.config/gspread_pandas/google_secret.json\") as json_file:\n",
    "    json_text = json_file.read()\n",
    "config = {\"textkey\": json_text}\n",
    "toml_config = toml.dumps(config)\n",
    "with open(output_file, \"w\") as target:\n",
    "    target.write(toml_config)"
   ]
  },
  {
   "cell_type": "code",
   "execution_count": 3,
   "metadata": {},
   "outputs": [],
   "source": [
    "import json\n",
    "key_dict = json.loads(st.secrets[\"textkey\"])"
   ]
  },
  {
   "cell_type": "code",
   "execution_count": 7,
   "metadata": {},
   "outputs": [
    {
     "ename": "ValueError",
     "evalue": "Service account info was not in the expected format, missing fields token_uri, client_email.",
     "output_type": "error",
     "traceback": [
      "\u001b[0;31m---------------------------------------------------------------------------\u001b[0m",
      "\u001b[0;31mValueError\u001b[0m                                Traceback (most recent call last)",
      "\u001b[1;32m/Users/blabaschin/Documents/Code/hhporcelain/hhporcelain/report_notebook.ipynb Cell 13'\u001b[0m in \u001b[0;36m<cell line: 5>\u001b[0;34m()\u001b[0m\n\u001b[1;32m      <a href='vscode-notebook-cell:/Users/blabaschin/Documents/Code/hhporcelain/hhporcelain/report_notebook.ipynb#ch0000027?line=1'>2</a>\u001b[0m \u001b[39mimport\u001b[39;00m \u001b[39mjson\u001b[39;00m\n\u001b[1;32m      <a href='vscode-notebook-cell:/Users/blabaschin/Documents/Code/hhporcelain/hhporcelain/report_notebook.ipynb#ch0000027?line=3'>4</a>\u001b[0m key_dict \u001b[39m=\u001b[39m json\u001b[39m.\u001b[39mloads(st\u001b[39m.\u001b[39msecrets[\u001b[39m\"\u001b[39m\u001b[39mtextkey\u001b[39m\u001b[39m\"\u001b[39m])\n\u001b[0;32m----> <a href='vscode-notebook-cell:/Users/blabaschin/Documents/Code/hhporcelain/hhporcelain/report_notebook.ipynb#ch0000027?line=4'>5</a>\u001b[0m creds \u001b[39m=\u001b[39m service_account\u001b[39m.\u001b[39;49mCredentials\u001b[39m.\u001b[39;49mfrom_service_account_info(key_dict)\n",
      "File \u001b[0;32m~/Documents/Code/hhporcelain/.venv/lib/python3.10/site-packages/google/oauth2/service_account.py:221\u001b[0m, in \u001b[0;36mCredentials.from_service_account_info\u001b[0;34m(cls, info, **kwargs)\u001b[0m\n\u001b[1;32m    <a href='file:///Users/blabaschin/Documents/Code/hhporcelain/.venv/lib/python3.10/site-packages/google/oauth2/service_account.py?line=204'>205</a>\u001b[0m \u001b[39m@classmethod\u001b[39m\n\u001b[1;32m    <a href='file:///Users/blabaschin/Documents/Code/hhporcelain/.venv/lib/python3.10/site-packages/google/oauth2/service_account.py?line=205'>206</a>\u001b[0m \u001b[39mdef\u001b[39;00m \u001b[39mfrom_service_account_info\u001b[39m(\u001b[39mcls\u001b[39m, info, \u001b[39m*\u001b[39m\u001b[39m*\u001b[39mkwargs):\n\u001b[1;32m    <a href='file:///Users/blabaschin/Documents/Code/hhporcelain/.venv/lib/python3.10/site-packages/google/oauth2/service_account.py?line=206'>207</a>\u001b[0m     \u001b[39m\"\"\"Creates a Credentials instance from parsed service account info.\u001b[39;00m\n\u001b[1;32m    <a href='file:///Users/blabaschin/Documents/Code/hhporcelain/.venv/lib/python3.10/site-packages/google/oauth2/service_account.py?line=207'>208</a>\u001b[0m \n\u001b[1;32m    <a href='file:///Users/blabaschin/Documents/Code/hhporcelain/.venv/lib/python3.10/site-packages/google/oauth2/service_account.py?line=208'>209</a>\u001b[0m \u001b[39m    Args:\u001b[39;00m\n\u001b[0;32m   (...)\u001b[0m\n\u001b[1;32m    <a href='file:///Users/blabaschin/Documents/Code/hhporcelain/.venv/lib/python3.10/site-packages/google/oauth2/service_account.py?line=218'>219</a>\u001b[0m \u001b[39m        ValueError: If the info is not in the expected format.\u001b[39;00m\n\u001b[1;32m    <a href='file:///Users/blabaschin/Documents/Code/hhporcelain/.venv/lib/python3.10/site-packages/google/oauth2/service_account.py?line=219'>220</a>\u001b[0m \u001b[39m    \"\"\"\u001b[39;00m\n\u001b[0;32m--> <a href='file:///Users/blabaschin/Documents/Code/hhporcelain/.venv/lib/python3.10/site-packages/google/oauth2/service_account.py?line=220'>221</a>\u001b[0m     signer \u001b[39m=\u001b[39m _service_account_info\u001b[39m.\u001b[39;49mfrom_dict(\n\u001b[1;32m    <a href='file:///Users/blabaschin/Documents/Code/hhporcelain/.venv/lib/python3.10/site-packages/google/oauth2/service_account.py?line=221'>222</a>\u001b[0m         info, require\u001b[39m=\u001b[39;49m[\u001b[39m\"\u001b[39;49m\u001b[39mclient_email\u001b[39;49m\u001b[39m\"\u001b[39;49m, \u001b[39m\"\u001b[39;49m\u001b[39mtoken_uri\u001b[39;49m\u001b[39m\"\u001b[39;49m]\n\u001b[1;32m    <a href='file:///Users/blabaschin/Documents/Code/hhporcelain/.venv/lib/python3.10/site-packages/google/oauth2/service_account.py?line=222'>223</a>\u001b[0m     )\n\u001b[1;32m    <a href='file:///Users/blabaschin/Documents/Code/hhporcelain/.venv/lib/python3.10/site-packages/google/oauth2/service_account.py?line=223'>224</a>\u001b[0m     \u001b[39mreturn\u001b[39;00m \u001b[39mcls\u001b[39m\u001b[39m.\u001b[39m_from_signer_and_info(signer, info, \u001b[39m*\u001b[39m\u001b[39m*\u001b[39mkwargs)\n",
      "File \u001b[0;32m~/Documents/Code/hhporcelain/.venv/lib/python3.10/site-packages/google/auth/_service_account_info.py:49\u001b[0m, in \u001b[0;36mfrom_dict\u001b[0;34m(data, require)\u001b[0m\n\u001b[1;32m     <a href='file:///Users/blabaschin/Documents/Code/hhporcelain/.venv/lib/python3.10/site-packages/google/auth/_service_account_info.py?line=45'>46</a>\u001b[0m missing \u001b[39m=\u001b[39m keys_needed\u001b[39m.\u001b[39mdifference(six\u001b[39m.\u001b[39miterkeys(data))\n\u001b[1;32m     <a href='file:///Users/blabaschin/Documents/Code/hhporcelain/.venv/lib/python3.10/site-packages/google/auth/_service_account_info.py?line=47'>48</a>\u001b[0m \u001b[39mif\u001b[39;00m missing:\n\u001b[0;32m---> <a href='file:///Users/blabaschin/Documents/Code/hhporcelain/.venv/lib/python3.10/site-packages/google/auth/_service_account_info.py?line=48'>49</a>\u001b[0m     \u001b[39mraise\u001b[39;00m \u001b[39mValueError\u001b[39;00m(\n\u001b[1;32m     <a href='file:///Users/blabaschin/Documents/Code/hhporcelain/.venv/lib/python3.10/site-packages/google/auth/_service_account_info.py?line=49'>50</a>\u001b[0m         \u001b[39m\"\u001b[39m\u001b[39mService account info was not in the expected format, missing \u001b[39m\u001b[39m\"\u001b[39m\n\u001b[1;32m     <a href='file:///Users/blabaschin/Documents/Code/hhporcelain/.venv/lib/python3.10/site-packages/google/auth/_service_account_info.py?line=50'>51</a>\u001b[0m         \u001b[39m\"\u001b[39m\u001b[39mfields \u001b[39m\u001b[39m{}\u001b[39;00m\u001b[39m.\u001b[39m\u001b[39m\"\u001b[39m\u001b[39m.\u001b[39mformat(\u001b[39m\"\u001b[39m\u001b[39m, \u001b[39m\u001b[39m\"\u001b[39m\u001b[39m.\u001b[39mjoin(missing))\n\u001b[1;32m     <a href='file:///Users/blabaschin/Documents/Code/hhporcelain/.venv/lib/python3.10/site-packages/google/auth/_service_account_info.py?line=51'>52</a>\u001b[0m     )\n\u001b[1;32m     <a href='file:///Users/blabaschin/Documents/Code/hhporcelain/.venv/lib/python3.10/site-packages/google/auth/_service_account_info.py?line=53'>54</a>\u001b[0m \u001b[39m# Create a signer.\u001b[39;00m\n\u001b[1;32m     <a href='file:///Users/blabaschin/Documents/Code/hhporcelain/.venv/lib/python3.10/site-packages/google/auth/_service_account_info.py?line=54'>55</a>\u001b[0m signer \u001b[39m=\u001b[39m crypt\u001b[39m.\u001b[39mRSASigner\u001b[39m.\u001b[39mfrom_service_account_info(data)\n",
      "\u001b[0;31mValueError\u001b[0m: Service account info was not in the expected format, missing fields token_uri, client_email."
     ]
    }
   ],
   "source": [
    "from google.oauth2 import service_account\n",
    "import json\n",
    "\n",
    "key_dict = json.loads(st.secrets[\"textkey\"])\n",
    "creds = service_account.Credentials.from_service_account_info(key_dict)"
   ]
  },
  {
   "cell_type": "code",
   "execution_count": null,
   "metadata": {},
   "outputs": [],
   "source": []
  }
 ],
 "metadata": {
  "interpreter": {
   "hash": "2f8fee3cd704509076bff6a1236ce92e661bd75885e9477b68ecd80c9f87bd23"
  },
  "kernelspec": {
   "display_name": "Python 3.10.1 ('.venv': poetry)",
   "language": "python",
   "name": "python3"
  },
  "language_info": {
   "codemirror_mode": {
    "name": "ipython",
    "version": 3
   },
   "file_extension": ".py",
   "mimetype": "text/x-python",
   "name": "python",
   "nbconvert_exporter": "python",
   "pygments_lexer": "ipython3",
   "version": "3.9.11"
  },
  "orig_nbformat": 4
 },
 "nbformat": 4,
 "nbformat_minor": 2
}
